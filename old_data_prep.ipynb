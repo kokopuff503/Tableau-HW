{
 "cells": [
  {
   "cell_type": "code",
   "execution_count": 1,
   "metadata": {},
   "outputs": [],
   "source": [
    "import pandas as pd\n",
    "import csv\n",
    "import glob"
   ]
  },
  {
   "cell_type": "code",
   "execution_count": 2,
   "metadata": {},
   "outputs": [],
   "source": [
    "filepaths = glob.glob('data/*.csv')"
   ]
  },
  {
   "cell_type": "code",
   "execution_count": 3,
   "metadata": {},
   "outputs": [],
   "source": [
    "df = pd.DataFrame()\n",
    "\n",
    "for file in filepaths:\n",
    "    dataframe = pd.read_csv(file)\n",
    "    if (len(dataframe.columns) == 15):\n",
    "        dataframe.columns = ['Trip Duration (sec)', 'Start Time', 'Stop Time', 'Start Station ID',\n",
    "       'Start Station Name', 'Start Station Latitude',\n",
    "       'Start Station Longitude', 'End Station ID', 'End Station Name',\n",
    "       'End Station Latitude', 'End Station Longitude', 'Bike ID', 'User Type',\n",
    "       'Birth_Year', 'Gender']\n",
    "        \n",
    "    else:\n",
    "        dataframe.columns = ['Trip Duration (sec)', 'Start Time', 'Stop Time', 'Start Station ID',\n",
    "       'Start Station Name', 'Start Station Latitude',\n",
    "       'Start Station Longitude', 'End Station ID', 'End Station Name',\n",
    "       'End Station Latitude', 'End Station Longitude', 'Bike ID',\n",
    "       'Localized Value', 'User Type', 'Birth_Year', 'Gender']\n",
    "        dataframe = dataframe.drop('Localized Value',1)\n",
    "    \n",
    "    df = df.append(dataframe, ignore_index=True, sort=False)\n",
    "    "
   ]
  },
  {
   "cell_type": "code",
   "execution_count": 4,
   "metadata": {},
   "outputs": [
    {
     "data": {
      "text/plain": [
       "Trip Duration (sec)            0\n",
       "Start Time                     0\n",
       "Stop Time                      0\n",
       "Start Station ID               0\n",
       "Start Station Name             0\n",
       "Start Station Latitude         0\n",
       "Start Station Longitude        0\n",
       "End Station ID                 0\n",
       "End Station Name               0\n",
       "End Station Latitude           0\n",
       "End Station Longitude          0\n",
       "Bike ID                        0\n",
       "User Type                    117\n",
       "Birth_Year                 24820\n",
       "Gender                         0\n",
       "dtype: int64"
      ]
     },
     "execution_count": 4,
     "metadata": {},
     "output_type": "execute_result"
    }
   ],
   "source": [
    "df.isnull().sum()"
   ]
  },
  {
   "cell_type": "code",
   "execution_count": 5,
   "metadata": {},
   "outputs": [],
   "source": [
    "df = df.dropna(how='any').reset_index(drop=True)"
   ]
  },
  {
   "cell_type": "code",
   "execution_count": 6,
   "metadata": {},
   "outputs": [],
   "source": [
    "df['Birth_Year'] = df.Birth_Year.astype(int)\n",
    "df['Start Time'] = pd.to_datetime(df['Start Time'])\n",
    "df['Stop Time'] = pd.to_datetime(df['Stop Time'])"
   ]
  },
  {
   "cell_type": "code",
   "execution_count": 10,
   "metadata": {},
   "outputs": [
    {
     "data": {
      "text/plain": [
       "Trip Duration (sec)                object\n",
       "Start Time                 datetime64[ns]\n",
       "Stop Time                  datetime64[ns]\n",
       "Start Station ID                    int64\n",
       "Start Station Name                 object\n",
       "Start Station Latitude            float64\n",
       "Start Station Longitude           float64\n",
       "End Station ID                      int64\n",
       "End Station Name                   object\n",
       "End Station Latitude              float64\n",
       "End Station Longitude             float64\n",
       "Bike ID                             int64\n",
       "User Type                          object\n",
       "Birth_Year                          int64\n",
       "Gender                              int64\n",
       "Age                                 int64\n",
       "dtype: object"
      ]
     },
     "execution_count": 10,
     "metadata": {},
     "output_type": "execute_result"
    }
   ],
   "source": [
    "df.dtypes"
   ]
  },
  {
   "cell_type": "code",
   "execution_count": 8,
   "metadata": {},
   "outputs": [],
   "source": [
    "df['Age'] = 2018 - df['Birth_Year']"
   ]
  },
  {
   "cell_type": "code",
   "execution_count": 11,
   "metadata": {},
   "outputs": [
    {
     "data": {
      "text/plain": [
       "2018    1000\n",
       "Name: Age, dtype: int64"
      ]
     },
     "execution_count": 11,
     "metadata": {},
     "output_type": "execute_result"
    }
   ],
   "source": [
    "df['Age'].nlargest(1000).value_counts()"
   ]
  },
  {
   "cell_type": "code",
   "execution_count": 13,
   "metadata": {},
   "outputs": [],
   "source": [
    "df = df[df['Age'] < 90]"
   ]
  },
  {
   "cell_type": "code",
   "execution_count": 14,
   "metadata": {},
   "outputs": [
    {
     "name": "stdout",
     "output_type": "stream",
     "text": [
      "Trip Duration (sec)        372847\n",
      "Start Time                 372847\n",
      "Stop Time                  372847\n",
      "Start Station ID           372847\n",
      "Start Station Name         372847\n",
      "Start Station Latitude     372847\n",
      "Start Station Longitude    372847\n",
      "End Station ID             372847\n",
      "End Station Name           372847\n",
      "End Station Latitude       372847\n",
      "End Station Longitude      372847\n",
      "Bike ID                    372847\n",
      "User Type                  372847\n",
      "Birth_Year                 372847\n",
      "Gender                     372847\n",
      "Age                        372847\n",
      "dtype: int64\n"
     ]
    }
   ],
   "source": [
    "print(df.count())"
   ]
  },
  {
   "cell_type": "code",
   "execution_count": 12,
   "metadata": {},
   "outputs": [
    {
     "data": {
      "text/html": [
       "<div>\n",
       "<style scoped>\n",
       "    .dataframe tbody tr th:only-of-type {\n",
       "        vertical-align: middle;\n",
       "    }\n",
       "\n",
       "    .dataframe tbody tr th {\n",
       "        vertical-align: top;\n",
       "    }\n",
       "\n",
       "    .dataframe thead th {\n",
       "        text-align: right;\n",
       "    }\n",
       "</style>\n",
       "<table border=\"1\" class=\"dataframe\">\n",
       "  <thead>\n",
       "    <tr style=\"text-align: right;\">\n",
       "      <th></th>\n",
       "      <th>Trip Duration (sec)</th>\n",
       "      <th>Start Time</th>\n",
       "      <th>Stop Time</th>\n",
       "      <th>Start Station ID</th>\n",
       "      <th>Start Station Name</th>\n",
       "      <th>Start Station Latitude</th>\n",
       "      <th>Start Station Longitude</th>\n",
       "      <th>End Station ID</th>\n",
       "      <th>End Station Name</th>\n",
       "      <th>End Station Latitude</th>\n",
       "      <th>End Station Longitude</th>\n",
       "      <th>Bike ID</th>\n",
       "      <th>User Type</th>\n",
       "      <th>Birth_Year</th>\n",
       "      <th>Gender</th>\n",
       "      <th>Age</th>\n",
       "    </tr>\n",
       "  </thead>\n",
       "  <tbody>\n",
       "    <tr>\n",
       "      <th>0</th>\n",
       "      <td>148</td>\n",
       "      <td>2017-01-01 00:21:32</td>\n",
       "      <td>2017-01-01 00:24:01</td>\n",
       "      <td>3276</td>\n",
       "      <td>Marin Light Rail</td>\n",
       "      <td>40.714584</td>\n",
       "      <td>-74.042817</td>\n",
       "      <td>3185</td>\n",
       "      <td>City Hall</td>\n",
       "      <td>40.717733</td>\n",
       "      <td>-74.043845</td>\n",
       "      <td>24575</td>\n",
       "      <td>Subscriber</td>\n",
       "      <td>1983</td>\n",
       "      <td>1</td>\n",
       "      <td>35</td>\n",
       "    </tr>\n",
       "    <tr>\n",
       "      <th>1</th>\n",
       "      <td>1283</td>\n",
       "      <td>2017-01-01 00:24:35</td>\n",
       "      <td>2017-01-01 00:45:58</td>\n",
       "      <td>3183</td>\n",
       "      <td>Exchange Place</td>\n",
       "      <td>40.716247</td>\n",
       "      <td>-74.033459</td>\n",
       "      <td>3198</td>\n",
       "      <td>Heights Elevator</td>\n",
       "      <td>40.748716</td>\n",
       "      <td>-74.040443</td>\n",
       "      <td>24723</td>\n",
       "      <td>Subscriber</td>\n",
       "      <td>1978</td>\n",
       "      <td>1</td>\n",
       "      <td>40</td>\n",
       "    </tr>\n",
       "    <tr>\n",
       "      <th>2</th>\n",
       "      <td>372</td>\n",
       "      <td>2017-01-01 00:38:19</td>\n",
       "      <td>2017-01-01 00:44:31</td>\n",
       "      <td>3183</td>\n",
       "      <td>Exchange Place</td>\n",
       "      <td>40.716247</td>\n",
       "      <td>-74.033459</td>\n",
       "      <td>3211</td>\n",
       "      <td>Newark Ave</td>\n",
       "      <td>40.721525</td>\n",
       "      <td>-74.046305</td>\n",
       "      <td>24620</td>\n",
       "      <td>Subscriber</td>\n",
       "      <td>1989</td>\n",
       "      <td>1</td>\n",
       "      <td>29</td>\n",
       "    </tr>\n",
       "    <tr>\n",
       "      <th>3</th>\n",
       "      <td>1513</td>\n",
       "      <td>2017-01-01 00:38:37</td>\n",
       "      <td>2017-01-01 01:03:50</td>\n",
       "      <td>3194</td>\n",
       "      <td>McGinley Square</td>\n",
       "      <td>40.725340</td>\n",
       "      <td>-74.067622</td>\n",
       "      <td>3271</td>\n",
       "      <td>Danforth Light Rail</td>\n",
       "      <td>40.692640</td>\n",
       "      <td>-74.088012</td>\n",
       "      <td>24668</td>\n",
       "      <td>Subscriber</td>\n",
       "      <td>1961</td>\n",
       "      <td>1</td>\n",
       "      <td>57</td>\n",
       "    </tr>\n",
       "    <tr>\n",
       "      <th>4</th>\n",
       "      <td>639</td>\n",
       "      <td>2017-01-01 01:47:52</td>\n",
       "      <td>2017-01-01 01:58:31</td>\n",
       "      <td>3183</td>\n",
       "      <td>Exchange Place</td>\n",
       "      <td>40.716247</td>\n",
       "      <td>-74.033459</td>\n",
       "      <td>3203</td>\n",
       "      <td>Hamilton Park</td>\n",
       "      <td>40.727596</td>\n",
       "      <td>-74.044247</td>\n",
       "      <td>26167</td>\n",
       "      <td>Subscriber</td>\n",
       "      <td>1993</td>\n",
       "      <td>1</td>\n",
       "      <td>25</td>\n",
       "    </tr>\n",
       "  </tbody>\n",
       "</table>\n",
       "</div>"
      ],
      "text/plain": [
       "  Trip Duration (sec)          Start Time           Stop Time  \\\n",
       "0                 148 2017-01-01 00:21:32 2017-01-01 00:24:01   \n",
       "1                1283 2017-01-01 00:24:35 2017-01-01 00:45:58   \n",
       "2                 372 2017-01-01 00:38:19 2017-01-01 00:44:31   \n",
       "3                1513 2017-01-01 00:38:37 2017-01-01 01:03:50   \n",
       "4                 639 2017-01-01 01:47:52 2017-01-01 01:58:31   \n",
       "\n",
       "   Start Station ID Start Station Name  Start Station Latitude  \\\n",
       "0              3276   Marin Light Rail               40.714584   \n",
       "1              3183     Exchange Place               40.716247   \n",
       "2              3183     Exchange Place               40.716247   \n",
       "3              3194    McGinley Square               40.725340   \n",
       "4              3183     Exchange Place               40.716247   \n",
       "\n",
       "   Start Station Longitude  End Station ID     End Station Name  \\\n",
       "0               -74.042817            3185            City Hall   \n",
       "1               -74.033459            3198     Heights Elevator   \n",
       "2               -74.033459            3211           Newark Ave   \n",
       "3               -74.067622            3271  Danforth Light Rail   \n",
       "4               -74.033459            3203        Hamilton Park   \n",
       "\n",
       "   End Station Latitude  End Station Longitude  Bike ID   User Type  \\\n",
       "0             40.717733             -74.043845    24575  Subscriber   \n",
       "1             40.748716             -74.040443    24723  Subscriber   \n",
       "2             40.721525             -74.046305    24620  Subscriber   \n",
       "3             40.692640             -74.088012    24668  Subscriber   \n",
       "4             40.727596             -74.044247    26167  Subscriber   \n",
       "\n",
       "   Birth_Year  Gender  Age  \n",
       "0        1983       1   35  \n",
       "1        1978       1   40  \n",
       "2        1989       1   29  \n",
       "3        1961       1   57  \n",
       "4        1993       1   25  "
      ]
     },
     "execution_count": 12,
     "metadata": {},
     "output_type": "execute_result"
    }
   ],
   "source": [
    "df.head()"
   ]
  },
  {
   "cell_type": "code",
   "execution_count": 15,
   "metadata": {},
   "outputs": [],
   "source": [
    "df.to_csv('data/jcbike_testset.csv', encoding='utf-8', index=False)"
   ]
  },
  {
   "cell_type": "code",
   "execution_count": 17,
   "metadata": {},
   "outputs": [
    {
     "data": {
      "text/plain": [
       "32    22999\n",
       "29    20288\n",
       "30    19333\n",
       "34    18249\n",
       "35    17238\n",
       "38    16184\n",
       "28    16046\n",
       "31    15875\n",
       "33    15710\n",
       "37    15539\n",
       "36    15428\n",
       "40    12482\n",
       "27    10547\n",
       "41    10543\n",
       "39    10216\n",
       "42    10202\n",
       "26    10019\n",
       "43     8285\n",
       "48     7218\n",
       "24     6928\n",
       "46     6801\n",
       "47     6282\n",
       "25     5758\n",
       "44     5513\n",
       "50     5429\n",
       "45     5401\n",
       "62     5318\n",
       "54     5240\n",
       "58     4684\n",
       "49     4641\n",
       "      ...  \n",
       "51     3209\n",
       "52     3203\n",
       "53     3115\n",
       "60     3018\n",
       "23     2439\n",
       "59     2097\n",
       "64     2081\n",
       "61     1808\n",
       "57     1686\n",
       "22     1403\n",
       "66     1094\n",
       "65      944\n",
       "63      857\n",
       "21      478\n",
       "87      432\n",
       "69      422\n",
       "68      326\n",
       "20      323\n",
       "77      315\n",
       "67      242\n",
       "74      110\n",
       "19      101\n",
       "71       47\n",
       "70       34\n",
       "72       26\n",
       "17       26\n",
       "76       21\n",
       "18       20\n",
       "79        1\n",
       "16        1\n",
       "Name: Age, Length: 62, dtype: int64"
      ]
     },
     "execution_count": 17,
     "metadata": {},
     "output_type": "execute_result"
    }
   ],
   "source": [
    "df['Age'].value_counts()"
   ]
  },
  {
   "cell_type": "code",
   "execution_count": null,
   "metadata": {},
   "outputs": [],
   "source": []
  }
 ],
 "metadata": {
  "kernelspec": {
   "display_name": "Python 3",
   "language": "python",
   "name": "python3"
  },
  "language_info": {
   "codemirror_mode": {
    "name": "ipython",
    "version": 3
   },
   "file_extension": ".py",
   "mimetype": "text/x-python",
   "name": "python",
   "nbconvert_exporter": "python",
   "pygments_lexer": "ipython3",
   "version": "3.7.3"
  }
 },
 "nbformat": 4,
 "nbformat_minor": 2
}
